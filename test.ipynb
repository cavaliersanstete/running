{
 "cells": [
  {
   "cell_type": "markdown",
   "metadata": {},
   "source": [
    "# Connection to garmin connect"
   ]
  },
  {
   "cell_type": "markdown",
   "metadata": {},
   "source": [
    "### Import"
   ]
  },
  {
   "cell_type": "code",
   "execution_count": 1,
   "metadata": {},
   "outputs": [],
   "source": [
    "import datetime\n",
    "from datetime import timezone\n",
    "from datetime import date, timedelta\n",
    "import json\n",
    "import logging\n",
    "import os\n",
    "import sys\n",
    "from getpass import getpass\n",
    "\n",
    "import readchar\n",
    "import requests\n",
    "from garth.exc import GarthHTTPError\n",
    "\n",
    "from garminconnect import (\n",
    "    Garmin,\n",
    "    GarminConnectAuthenticationError,\n",
    "    GarminConnectConnectionError,\n",
    "    GarminConnectTooManyRequestsError,\n",
    ")\n"
   ]
  },
  {
   "cell_type": "markdown",
   "metadata": {},
   "source": [
    "### Connection"
   ]
  },
  {
   "cell_type": "code",
   "execution_count": null,
   "metadata": {},
   "outputs": [],
   "source": [
    "# Configure debug logging\n",
    "# logging.basicConfig(level=logging.DEBUG)\n",
    "logging.basicConfig(level=logging.INFO)\n",
    "logger = logging.getLogger(__name__)"
   ]
  },
  {
   "cell_type": "code",
   "execution_count": 3,
   "metadata": {},
   "outputs": [],
   "source": [
    "GARMIN_EMAIL = os.getenv(\"EMAIL\")\n",
    "GARMIN_PASSWORD = os.getenv(\"PASSWORD\")\n",
    "\n",
    "try:\n",
    "    garmin = Garmin(GARMIN_EMAIL, GARMIN_PASSWORD)\n",
    "except (\n",
    "    GarminConnectConnectionError,\n",
    "    GarminConnectAuthenticationError,\n",
    "    GarminConnectTooManyRequestsError,\n",
    ") as err:\n",
    "    print(\"Error occurred during Garmin Connect Client init: %s\" % err)\n",
    "    quit()\n",
    "except Exception:  # pylint: disable=broad-except\n",
    "    print(\"Unknown error occurred during Garmin Connect Client init\")\n",
    "    quit()"
   ]
  },
  {
   "cell_type": "code",
   "execution_count": 4,
   "metadata": {},
   "outputs": [
    {
     "name": "stdout",
     "output_type": "stream",
     "text": [
      "lucas.piquet@centrale.centralelille.fr\n"
     ]
    }
   ],
   "source": [
    "print(GARMIN_EMAIL)"
   ]
  },
  {
   "cell_type": "code",
   "execution_count": 5,
   "metadata": {},
   "outputs": [
    {
     "name": "stdout",
     "output_type": "stream",
     "text": [
      "Login attempt: ...\n",
      "----------------------------------------------------------------------------------------\n",
      "Welcom to Garmin connect Piquet\n"
     ]
    }
   ],
   "source": [
    "\"\"\"\n",
    "Login to Garmin Connect portal\n",
    "Only needed at start of your program\n",
    "The library will try to relogin when session expires\n",
    "\"\"\"\n",
    "print(\"Login attempt: ...\")\n",
    "print(\"----------------------------------------------------------------------------------------\")\n",
    "try:\n",
    "    garmin.login()\n",
    "    print(f\"Welcom to Garmin connect {garmin.get_full_name()}\")\n",
    "except (\n",
    "    GarminConnectConnectionError,\n",
    "    GarminConnectAuthenticationError,\n",
    "    GarminConnectTooManyRequestsError,\n",
    ") as err:\n",
    "    print(\"Error occurred during Garmin Connect Client login: %s\" % err)\n",
    "    quit()\n",
    "except Exception:  # pylint: disable=broad-except\n",
    "    print(\"Unknown error occurred during Garmin Connect Client login\")\n",
    "    quit()"
   ]
  },
  {
   "cell_type": "markdown",
   "metadata": {},
   "source": [
    "### Fetch the first data"
   ]
  },
  {
   "cell_type": "code",
   "execution_count": 15,
   "metadata": {},
   "outputs": [
    {
     "data": {
      "text/plain": [
       "'2025-03-14'"
      ]
     },
     "execution_count": 15,
     "metadata": {},
     "output_type": "execute_result"
    }
   ],
   "source": [
    "yesterday = date.today() - timedelta(days=1)\n",
    "yesterday = yesterday.isoformat()\n",
    "yesterday"
   ]
  },
  {
   "cell_type": "code",
   "execution_count": 19,
   "metadata": {},
   "outputs": [
    {
     "data": {
      "text/plain": [
       "'2025-03-07'"
      ]
     },
     "execution_count": 19,
     "metadata": {},
     "output_type": "execute_result"
    }
   ],
   "source": [
    "last_week = date.today() - timedelta(days=8)\n",
    "last_week = last_week.isoformat()\n",
    "last_week"
   ]
  },
  {
   "cell_type": "code",
   "execution_count": 7,
   "metadata": {},
   "outputs": [
    {
     "name": "stdout",
     "output_type": "stream",
     "text": [
      "Data available : dict_keys(['userProfileId', 'totalKilocalories', 'activeKilocalories', 'bmrKilocalories', 'wellnessKilocalories', 'burnedKilocalories', 'consumedKilocalories', 'remainingKilocalories', 'totalSteps', 'netCalorieGoal', 'totalDistanceMeters', 'wellnessDistanceMeters', 'wellnessActiveKilocalories', 'netRemainingKilocalories', 'userDailySummaryId', 'calendarDate', 'rule', 'uuid', 'dailyStepGoal', 'wellnessStartTimeGmt', 'wellnessStartTimeLocal', 'wellnessEndTimeGmt', 'wellnessEndTimeLocal', 'durationInMilliseconds', 'wellnessDescription', 'highlyActiveSeconds', 'activeSeconds', 'sedentarySeconds', 'sleepingSeconds', 'includesWellnessData', 'includesActivityData', 'includesCalorieConsumedData', 'privacyProtected', 'moderateIntensityMinutes', 'vigorousIntensityMinutes', 'floorsAscendedInMeters', 'floorsDescendedInMeters', 'floorsAscended', 'floorsDescended', 'intensityMinutesGoal', 'userFloorsAscendedGoal', 'minHeartRate', 'maxHeartRate', 'restingHeartRate', 'lastSevenDaysAvgRestingHeartRate', 'source', 'averageStressLevel', 'maxStressLevel', 'stressDuration', 'restStressDuration', 'activityStressDuration', 'uncategorizedStressDuration', 'totalStressDuration', 'lowStressDuration', 'mediumStressDuration', 'highStressDuration', 'stressPercentage', 'restStressPercentage', 'activityStressPercentage', 'uncategorizedStressPercentage', 'lowStressPercentage', 'mediumStressPercentage', 'highStressPercentage', 'stressQualifier', 'measurableAwakeDuration', 'measurableAsleepDuration', 'lastSyncTimestampGMT', 'minAvgHeartRate', 'maxAvgHeartRate', 'bodyBatteryChargedValue', 'bodyBatteryDrainedValue', 'bodyBatteryHighestValue', 'bodyBatteryLowestValue', 'bodyBatteryMostRecentValue', 'bodyBatteryDuringSleep', 'bodyBatteryAtWakeTime', 'bodyBatteryVersion', 'abnormalHeartRateAlertsCount', 'averageSpo2', 'lowestSpo2', 'latestSpo2', 'latestSpo2ReadingTimeGmt', 'latestSpo2ReadingTimeLocal', 'averageMonitoringEnvironmentAltitude', 'restingCaloriesFromActivity', 'avgWakingRespirationValue', 'highestRespirationValue', 'lowestRespirationValue', 'latestRespirationValue', 'latestRespirationTimeGMT', 'respirationAlgorithmVersion'])\n"
     ]
    }
   ],
   "source": [
    "print(f\"Data available : {garmin.get_stats(yesterday).keys()}\")"
   ]
  },
  {
   "cell_type": "code",
   "execution_count": 18,
   "metadata": {},
   "outputs": [
    {
     "data": {
      "text/plain": [
       "2712.0"
      ]
     },
     "execution_count": 18,
     "metadata": {},
     "output_type": "execute_result"
    }
   ],
   "source": [
    "# garmin.get_steps_data(yesterday)\n",
    "garmin.get_stats(yesterday)['totalKilocalories']\n"
   ]
  },
  {
   "cell_type": "code",
   "execution_count": 11,
   "metadata": {},
   "outputs": [
    {
     "data": {
      "text/plain": [
       "dict_keys(['userProfileId', 'totalKilocalories', 'activeKilocalories', 'bmrKilocalories', 'wellnessKilocalories', 'burnedKilocalories', 'consumedKilocalories', 'remainingKilocalories', 'totalSteps', 'netCalorieGoal', 'totalDistanceMeters', 'wellnessDistanceMeters', 'wellnessActiveKilocalories', 'netRemainingKilocalories', 'userDailySummaryId', 'calendarDate', 'rule', 'uuid', 'dailyStepGoal', 'wellnessStartTimeGmt', 'wellnessStartTimeLocal', 'wellnessEndTimeGmt', 'wellnessEndTimeLocal', 'durationInMilliseconds', 'wellnessDescription', 'highlyActiveSeconds', 'activeSeconds', 'sedentarySeconds', 'sleepingSeconds', 'includesWellnessData', 'includesActivityData', 'includesCalorieConsumedData', 'privacyProtected', 'moderateIntensityMinutes', 'vigorousIntensityMinutes', 'floorsAscendedInMeters', 'floorsDescendedInMeters', 'floorsAscended', 'floorsDescended', 'intensityMinutesGoal', 'userFloorsAscendedGoal', 'minHeartRate', 'maxHeartRate', 'restingHeartRate', 'lastSevenDaysAvgRestingHeartRate', 'source', 'averageStressLevel', 'maxStressLevel', 'stressDuration', 'restStressDuration', 'activityStressDuration', 'uncategorizedStressDuration', 'totalStressDuration', 'lowStressDuration', 'mediumStressDuration', 'highStressDuration', 'stressPercentage', 'restStressPercentage', 'activityStressPercentage', 'uncategorizedStressPercentage', 'lowStressPercentage', 'mediumStressPercentage', 'highStressPercentage', 'stressQualifier', 'measurableAwakeDuration', 'measurableAsleepDuration', 'lastSyncTimestampGMT', 'minAvgHeartRate', 'maxAvgHeartRate', 'bodyBatteryChargedValue', 'bodyBatteryDrainedValue', 'bodyBatteryHighestValue', 'bodyBatteryLowestValue', 'bodyBatteryMostRecentValue', 'bodyBatteryDuringSleep', 'bodyBatteryAtWakeTime', 'bodyBatteryVersion', 'abnormalHeartRateAlertsCount', 'averageSpo2', 'lowestSpo2', 'latestSpo2', 'latestSpo2ReadingTimeGmt', 'latestSpo2ReadingTimeLocal', 'averageMonitoringEnvironmentAltitude', 'restingCaloriesFromActivity', 'avgWakingRespirationValue', 'highestRespirationValue', 'lowestRespirationValue', 'latestRespirationValue', 'latestRespirationTimeGMT', 'respirationAlgorithmVersion'])"
      ]
     },
     "execution_count": 11,
     "metadata": {},
     "output_type": "execute_result"
    }
   ],
   "source": [
    "garmin.get_user_summary(yesterday).keys()"
   ]
  },
  {
   "cell_type": "code",
   "execution_count": 17,
   "metadata": {},
   "outputs": [
    {
     "data": {
      "text/plain": [
       "{'startTimestampGMT': '2025-03-13T23:00:00.0',\n",
       " 'endTimestampGMT': '2025-03-14T23:00:00.0',\n",
       " 'startTimestampLocal': '2025-03-14T00:00:00.0',\n",
       " 'endTimestampLocal': '2025-03-15T00:00:00.0',\n",
       " 'floorsValueDescriptorDTOList': [],\n",
       " 'floorValuesArray': []}"
      ]
     },
     "execution_count": 17,
     "metadata": {},
     "output_type": "execute_result"
    }
   ],
   "source": [
    "garmin.get_floors(yesterday)"
   ]
  },
  {
   "cell_type": "code",
   "execution_count": 20,
   "metadata": {},
   "outputs": [
    {
     "data": {
      "text/plain": [
       "[{'calendarDate': '2025-03-07',\n",
       "  'totalSteps': None,\n",
       "  'totalDistance': None,\n",
       "  'stepGoal': None},\n",
       " {'calendarDate': '2025-03-08',\n",
       "  'totalSteps': None,\n",
       "  'totalDistance': None,\n",
       "  'stepGoal': None},\n",
       " {'calendarDate': '2025-03-09',\n",
       "  'totalSteps': None,\n",
       "  'totalDistance': None,\n",
       "  'stepGoal': None},\n",
       " {'calendarDate': '2025-03-10',\n",
       "  'totalSteps': 11997,\n",
       "  'totalDistance': 11996,\n",
       "  'stepGoal': 14660},\n",
       " {'calendarDate': '2025-03-11',\n",
       "  'totalSteps': 13618,\n",
       "  'totalDistance': 14350,\n",
       "  'stepGoal': 14660},\n",
       " {'calendarDate': '2025-03-12',\n",
       "  'totalSteps': 2200,\n",
       "  'totalDistance': 1730,\n",
       "  'stepGoal': 14660},\n",
       " {'calendarDate': '2025-03-13',\n",
       "  'totalSteps': 12691,\n",
       "  'totalDistance': 14000,\n",
       "  'stepGoal': 14660},\n",
       " {'calendarDate': '2025-03-14',\n",
       "  'totalSteps': 11577,\n",
       "  'totalDistance': 12077,\n",
       "  'stepGoal': 14660}]"
      ]
     },
     "execution_count": 20,
     "metadata": {},
     "output_type": "execute_result"
    }
   ],
   "source": [
    "garmin.get_daily_steps(last_week, yesterday)"
   ]
  },
  {
   "cell_type": "code",
   "execution_count": 21,
   "metadata": {},
   "outputs": [
    {
     "data": {
      "text/plain": [
       "dict_keys(['userProfilePK', 'calendarDate', 'startTimestampGMT', 'endTimestampGMT', 'startTimestampLocal', 'endTimestampLocal', 'maxHeartRate', 'minHeartRate', 'restingHeartRate', 'lastSevenDaysAvgRestingHeartRate', 'heartRateValueDescriptors', 'heartRateValues'])"
      ]
     },
     "execution_count": 21,
     "metadata": {},
     "output_type": "execute_result"
    }
   ],
   "source": [
    "garmin.get_heart_rates(yesterday).keys()"
   ]
  },
  {
   "cell_type": "code",
   "execution_count": 22,
   "metadata": {},
   "outputs": [
    {
     "data": {
      "text/plain": [
       "[[1741906800000, 'MEASURED', 29, 2.0],\n",
       " [1741906980000, 'MEASURED', 30, 2.0],\n",
       " [1741907160000, 'MEASURED', 30, 2.0],\n",
       " [1741907340000, 'MEASURED', 31, 2.0],\n",
       " [1741907520000, 'MEASURED', 31, 2.0],\n",
       " [1741907700000, 'MEASURED', 32, 2.0],\n",
       " [1741907880000, 'MEASURED', 33, 2.0],\n",
       " [1741908060000, 'MEASURED', 33, 2.0],\n",
       " [1741908240000, 'MEASURED', 34, 2.0],\n",
       " [1741908420000, 'MEASURED', 34, 2.0]]"
      ]
     },
     "execution_count": 22,
     "metadata": {},
     "output_type": "execute_result"
    }
   ],
   "source": [
    "garmin.get_all_day_stress(yesterday)['bodyBatteryValuesArray'][:10]"
   ]
  },
  {
   "cell_type": "code",
   "execution_count": 23,
   "metadata": {},
   "outputs": [
    {
     "data": {
      "text/plain": [
       "{'id': 2444970671,\n",
       " 'typeId': 4,\n",
       " 'status': 'ACCEPTED',\n",
       " 'activityId': 15585601288,\n",
       " 'activityName': 'Paris Course à pied',\n",
       " 'activityType': 'running',\n",
       " 'activityStartDateTimeInGMT': 1716708641000,\n",
       " 'actStartDateTimeInGMTFormatted': '2024-05-26T07:30:41.0',\n",
       " 'activityStartDateTimeLocal': 1716715841000,\n",
       " 'activityStartDateTimeLocalFormatted': '2024-05-26T09:30:41.0',\n",
       " 'value': 2320.009033203125,\n",
       " 'prStartTimeGmt': 1716708641000,\n",
       " 'prStartTimeGmtFormatted': '2024-05-26T07:30:41.0',\n",
       " 'prStartTimeLocal': None,\n",
       " 'prStartTimeLocalFormatted': None,\n",
       " 'prTypeLabelKey': None,\n",
       " 'poolLengthUnit': None}"
      ]
     },
     "execution_count": 23,
     "metadata": {},
     "output_type": "execute_result"
    }
   ],
   "source": [
    "garmin.get_personal_record()[2]"
   ]
  },
  {
   "cell_type": "markdown",
   "metadata": {},
   "source": [
    "# Example"
   ]
  },
  {
   "cell_type": "markdown",
   "metadata": {},
   "source": [
    "### From medium"
   ]
  },
  {
   "cell_type": "markdown",
   "metadata": {},
   "source": [
    "https://medium.com/@datascienceandvisualisation/a-walkthrough-of-downloading-and-analysing-garmin-connect-data-using-python-b38c51f2fd85"
   ]
  },
  {
   "cell_type": "markdown",
   "metadata": {},
   "source": [
    "## From garmin connect"
   ]
  },
  {
   "cell_type": "markdown",
   "metadata": {},
   "source": [
    "https://pypi.org/project/garminconnect/0.1.21/#description"
   ]
  }
 ],
 "metadata": {
  "kernelspec": {
   "display_name": ".venv",
   "language": "python",
   "name": "python3"
  },
  "language_info": {
   "codemirror_mode": {
    "name": "ipython",
    "version": 3
   },
   "file_extension": ".py",
   "mimetype": "text/x-python",
   "name": "python",
   "nbconvert_exporter": "python",
   "pygments_lexer": "ipython3",
   "version": "3.10.12"
  }
 },
 "nbformat": 4,
 "nbformat_minor": 2
}
