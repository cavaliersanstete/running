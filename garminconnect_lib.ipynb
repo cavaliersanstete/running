{
 "cells": [
  {
   "cell_type": "markdown",
   "metadata": {},
   "source": [
    "# Connection to garmin connect"
   ]
  },
  {
   "cell_type": "markdown",
   "metadata": {},
   "source": [
    "Historic Data : Garmin connect stores data during : \n",
    "- 2 years for health data\n",
    "- 5 years for activities data"
   ]
  },
  {
   "cell_type": "markdown",
   "metadata": {},
   "source": [
    "### Import"
   ]
  },
  {
   "cell_type": "code",
   "execution_count": null,
   "metadata": {},
   "outputs": [],
   "source": [
    "import datetime\n",
    "from datetime import timezone\n",
    "from datetime import date, timedelta\n",
    "import json\n",
    "import logging\n",
    "import os\n",
    "import sys\n",
    "from getpass import getpass\n",
    "import matplotlib.pyplot as plt\n",
    "from collections import Counter\n",
    "from typing import List, Tuple, Dict\n",
    "\n",
    "\n",
    "import readchar\n",
    "import requests\n",
    "from garth.exc import GarthHTTPError\n",
    "\n",
    "from garminconnect import (\n",
    "    Garmin,\n",
    "    GarminConnectAuthenticationError,\n",
    "    GarminConnectConnectionError,\n",
    "    GarminConnectTooManyRequestsError,\n",
    ")\n",
    "from utils import display_json, display_text, timestamp_to_date, timestamp_to_date_iso\n"
   ]
  },
  {
   "cell_type": "markdown",
   "metadata": {},
   "source": [
    "## Connection"
   ]
  },
  {
   "cell_type": "code",
   "execution_count": 4,
   "metadata": {},
   "outputs": [],
   "source": [
    "# Configure debug logging\n",
    "# logging.basicConfig(level=logging.DEBUG)\n",
    "logging.basicConfig(level=logging.INFO)\n",
    "logger = logging.getLogger(__name__)"
   ]
  },
  {
   "cell_type": "code",
   "execution_count": 5,
   "metadata": {},
   "outputs": [],
   "source": [
    "GARMIN_EMAIL = os.getenv(\"EMAIL\")\n",
    "GARMIN_PASSWORD = os.getenv(\"PASSWORD\")\n",
    "\n",
    "try:\n",
    "    garmin = Garmin(GARMIN_EMAIL, GARMIN_PASSWORD)\n",
    "except (\n",
    "    GarminConnectConnectionError,\n",
    "    GarminConnectAuthenticationError,\n",
    "    GarminConnectTooManyRequestsError,\n",
    ") as err:\n",
    "    print(\"Error occurred during Garmin Connect Client init: %s\" % err)\n",
    "    quit()\n",
    "except Exception:  # pylint: disable=broad-except\n",
    "    print(\"Unknown error occurred during Garmin Connect Client init\")\n",
    "    quit()"
   ]
  },
  {
   "cell_type": "code",
   "execution_count": 7,
   "metadata": {},
   "outputs": [
    {
     "name": "stdout",
     "output_type": "stream",
     "text": [
      "Login attempt: ...\n",
      "----------------------------------------------------------------------------------------\n",
      "Welcom to Garmin connect Piquet\n"
     ]
    }
   ],
   "source": [
    "\"\"\"\n",
    "Login to Garmin Connect portal\n",
    "Only needed at start of your program\n",
    "The library will try to relogin when session expires\n",
    "\"\"\"\n",
    "print(\"Login attempt: ...\")\n",
    "print(\"----------------------------------------------------------------------------------------\")\n",
    "try:\n",
    "    garmin.login()\n",
    "    print(f\"Welcom to Garmin connect {garmin.get_full_name()}\")\n",
    "except (\n",
    "    GarminConnectConnectionError,\n",
    "    GarminConnectAuthenticationError,\n",
    "    GarminConnectTooManyRequestsError,\n",
    ") as err:\n",
    "    print(\"Error occurred during Garmin Connect Client login: %s\" % err)\n",
    "    quit()\n",
    "except Exception:  # pylint: disable=broad-except\n",
    "    print(\"Unknown error occurred during Garmin Connect Client login\")\n",
    "    quit()"
   ]
  },
  {
   "cell_type": "markdown",
   "metadata": {},
   "source": [
    "For explanation of login process : cf READAME.md"
   ]
  },
  {
   "cell_type": "markdown",
   "metadata": {},
   "source": [
    "## Fetch the first data"
   ]
  },
  {
   "cell_type": "markdown",
   "metadata": {},
   "source": [
    "### Random fetch"
   ]
  },
  {
   "cell_type": "code",
   "execution_count": 6,
   "metadata": {},
   "outputs": [
    {
     "data": {
      "text/plain": [
       "'2025-03-16'"
      ]
     },
     "execution_count": 6,
     "metadata": {},
     "output_type": "execute_result"
    }
   ],
   "source": [
    "yesterday = date.today() - timedelta(days=1)\n",
    "yesterday = yesterday.isoformat()\n",
    "yesterday"
   ]
  },
  {
   "cell_type": "code",
   "execution_count": 7,
   "metadata": {},
   "outputs": [
    {
     "data": {
      "text/plain": [
       "'2025-03-09'"
      ]
     },
     "execution_count": 7,
     "metadata": {},
     "output_type": "execute_result"
    }
   ],
   "source": [
    "last_week = date.today() - timedelta(days=8)\n",
    "last_week = last_week.isoformat()\n",
    "last_week"
   ]
  },
  {
   "cell_type": "code",
   "execution_count": 8,
   "metadata": {},
   "outputs": [
    {
     "name": "stdout",
     "output_type": "stream",
     "text": [
      "Data available : dict_keys(['userProfileId', 'totalKilocalories', 'activeKilocalories', 'bmrKilocalories', 'wellnessKilocalories', 'burnedKilocalories', 'consumedKilocalories', 'remainingKilocalories', 'totalSteps', 'netCalorieGoal', 'totalDistanceMeters', 'wellnessDistanceMeters', 'wellnessActiveKilocalories', 'netRemainingKilocalories', 'userDailySummaryId', 'calendarDate', 'rule', 'uuid', 'dailyStepGoal', 'wellnessStartTimeGmt', 'wellnessStartTimeLocal', 'wellnessEndTimeGmt', 'wellnessEndTimeLocal', 'durationInMilliseconds', 'wellnessDescription', 'highlyActiveSeconds', 'activeSeconds', 'sedentarySeconds', 'sleepingSeconds', 'includesWellnessData', 'includesActivityData', 'includesCalorieConsumedData', 'privacyProtected', 'moderateIntensityMinutes', 'vigorousIntensityMinutes', 'floorsAscendedInMeters', 'floorsDescendedInMeters', 'floorsAscended', 'floorsDescended', 'intensityMinutesGoal', 'userFloorsAscendedGoal', 'minHeartRate', 'maxHeartRate', 'restingHeartRate', 'lastSevenDaysAvgRestingHeartRate', 'source', 'averageStressLevel', 'maxStressLevel', 'stressDuration', 'restStressDuration', 'activityStressDuration', 'uncategorizedStressDuration', 'totalStressDuration', 'lowStressDuration', 'mediumStressDuration', 'highStressDuration', 'stressPercentage', 'restStressPercentage', 'activityStressPercentage', 'uncategorizedStressPercentage', 'lowStressPercentage', 'mediumStressPercentage', 'highStressPercentage', 'stressQualifier', 'measurableAwakeDuration', 'measurableAsleepDuration', 'lastSyncTimestampGMT', 'minAvgHeartRate', 'maxAvgHeartRate', 'bodyBatteryChargedValue', 'bodyBatteryDrainedValue', 'bodyBatteryHighestValue', 'bodyBatteryLowestValue', 'bodyBatteryMostRecentValue', 'bodyBatteryDuringSleep', 'bodyBatteryAtWakeTime', 'bodyBatteryVersion', 'abnormalHeartRateAlertsCount', 'averageSpo2', 'lowestSpo2', 'latestSpo2', 'latestSpo2ReadingTimeGmt', 'latestSpo2ReadingTimeLocal', 'averageMonitoringEnvironmentAltitude', 'restingCaloriesFromActivity', 'avgWakingRespirationValue', 'highestRespirationValue', 'lowestRespirationValue', 'latestRespirationValue', 'latestRespirationTimeGMT', 'respirationAlgorithmVersion'])\n"
     ]
    }
   ],
   "source": [
    "print(f\"Data available : {garmin.get_stats(yesterday).keys()}\")"
   ]
  },
  {
   "cell_type": "code",
   "execution_count": 9,
   "metadata": {},
   "outputs": [
    {
     "data": {
      "text/plain": [
       "1933.0"
      ]
     },
     "execution_count": 9,
     "metadata": {},
     "output_type": "execute_result"
    }
   ],
   "source": [
    "# garmin.get_steps_data(yesterday)\n",
    "garmin.get_stats(yesterday)['totalKilocalories']\n"
   ]
  },
  {
   "cell_type": "code",
   "execution_count": 10,
   "metadata": {},
   "outputs": [
    {
     "data": {
      "text/plain": [
       "dict_keys(['userProfileId', 'totalKilocalories', 'activeKilocalories', 'bmrKilocalories', 'wellnessKilocalories', 'burnedKilocalories', 'consumedKilocalories', 'remainingKilocalories', 'totalSteps', 'netCalorieGoal', 'totalDistanceMeters', 'wellnessDistanceMeters', 'wellnessActiveKilocalories', 'netRemainingKilocalories', 'userDailySummaryId', 'calendarDate', 'rule', 'uuid', 'dailyStepGoal', 'wellnessStartTimeGmt', 'wellnessStartTimeLocal', 'wellnessEndTimeGmt', 'wellnessEndTimeLocal', 'durationInMilliseconds', 'wellnessDescription', 'highlyActiveSeconds', 'activeSeconds', 'sedentarySeconds', 'sleepingSeconds', 'includesWellnessData', 'includesActivityData', 'includesCalorieConsumedData', 'privacyProtected', 'moderateIntensityMinutes', 'vigorousIntensityMinutes', 'floorsAscendedInMeters', 'floorsDescendedInMeters', 'floorsAscended', 'floorsDescended', 'intensityMinutesGoal', 'userFloorsAscendedGoal', 'minHeartRate', 'maxHeartRate', 'restingHeartRate', 'lastSevenDaysAvgRestingHeartRate', 'source', 'averageStressLevel', 'maxStressLevel', 'stressDuration', 'restStressDuration', 'activityStressDuration', 'uncategorizedStressDuration', 'totalStressDuration', 'lowStressDuration', 'mediumStressDuration', 'highStressDuration', 'stressPercentage', 'restStressPercentage', 'activityStressPercentage', 'uncategorizedStressPercentage', 'lowStressPercentage', 'mediumStressPercentage', 'highStressPercentage', 'stressQualifier', 'measurableAwakeDuration', 'measurableAsleepDuration', 'lastSyncTimestampGMT', 'minAvgHeartRate', 'maxAvgHeartRate', 'bodyBatteryChargedValue', 'bodyBatteryDrainedValue', 'bodyBatteryHighestValue', 'bodyBatteryLowestValue', 'bodyBatteryMostRecentValue', 'bodyBatteryDuringSleep', 'bodyBatteryAtWakeTime', 'bodyBatteryVersion', 'abnormalHeartRateAlertsCount', 'averageSpo2', 'lowestSpo2', 'latestSpo2', 'latestSpo2ReadingTimeGmt', 'latestSpo2ReadingTimeLocal', 'averageMonitoringEnvironmentAltitude', 'restingCaloriesFromActivity', 'avgWakingRespirationValue', 'highestRespirationValue', 'lowestRespirationValue', 'latestRespirationValue', 'latestRespirationTimeGMT', 'respirationAlgorithmVersion'])"
      ]
     },
     "execution_count": 10,
     "metadata": {},
     "output_type": "execute_result"
    }
   ],
   "source": [
    "garmin.get_user_summary(yesterday).keys()"
   ]
  },
  {
   "cell_type": "code",
   "execution_count": 11,
   "metadata": {},
   "outputs": [
    {
     "data": {
      "text/plain": [
       "{'startTimestampGMT': '2025-03-14T23:00:00.0',\n",
       " 'endTimestampGMT': '2025-03-15T23:00:00.0',\n",
       " 'startTimestampLocal': '2025-03-15T00:00:00.0',\n",
       " 'endTimestampLocal': '2025-03-16T00:00:00.0',\n",
       " 'floorsValueDescriptorDTOList': [],\n",
       " 'floorValuesArray': []}"
      ]
     },
     "execution_count": 11,
     "metadata": {},
     "output_type": "execute_result"
    }
   ],
   "source": [
    "garmin.get_floors(yesterday)"
   ]
  },
  {
   "cell_type": "code",
   "execution_count": 12,
   "metadata": {},
   "outputs": [
    {
     "data": {
      "text/plain": [
       "[{'calendarDate': '2025-03-08',\n",
       "  'totalSteps': None,\n",
       "  'totalDistance': None,\n",
       "  'stepGoal': None},\n",
       " {'calendarDate': '2025-03-09',\n",
       "  'totalSteps': None,\n",
       "  'totalDistance': None,\n",
       "  'stepGoal': None},\n",
       " {'calendarDate': '2025-03-10',\n",
       "  'totalSteps': 11997,\n",
       "  'totalDistance': 11996,\n",
       "  'stepGoal': 14660},\n",
       " {'calendarDate': '2025-03-11',\n",
       "  'totalSteps': 13618,\n",
       "  'totalDistance': 14350,\n",
       "  'stepGoal': 14660},\n",
       " {'calendarDate': '2025-03-12',\n",
       "  'totalSteps': 2200,\n",
       "  'totalDistance': 1730,\n",
       "  'stepGoal': 14660},\n",
       " {'calendarDate': '2025-03-13',\n",
       "  'totalSteps': 12691,\n",
       "  'totalDistance': 14000,\n",
       "  'stepGoal': 14660},\n",
       " {'calendarDate': '2025-03-14',\n",
       "  'totalSteps': 11577,\n",
       "  'totalDistance': 12077,\n",
       "  'stepGoal': 14660},\n",
       " {'calendarDate': '2025-03-15',\n",
       "  'totalSteps': 16727,\n",
       "  'totalDistance': 19286,\n",
       "  'stepGoal': 14660}]"
      ]
     },
     "execution_count": 12,
     "metadata": {},
     "output_type": "execute_result"
    }
   ],
   "source": [
    "garmin.get_daily_steps(last_week, yesterday)"
   ]
  },
  {
   "cell_type": "code",
   "execution_count": 13,
   "metadata": {},
   "outputs": [
    {
     "data": {
      "text/plain": [
       "dict_keys(['userProfilePK', 'calendarDate', 'startTimestampGMT', 'endTimestampGMT', 'startTimestampLocal', 'endTimestampLocal', 'maxHeartRate', 'minHeartRate', 'restingHeartRate', 'lastSevenDaysAvgRestingHeartRate', 'heartRateValues', 'heartRateValueDescriptors'])"
      ]
     },
     "execution_count": 13,
     "metadata": {},
     "output_type": "execute_result"
    }
   ],
   "source": [
    "garmin.get_heart_rates(yesterday).keys()"
   ]
  },
  {
   "cell_type": "code",
   "execution_count": 14,
   "metadata": {},
   "outputs": [
    {
     "data": {
      "text/plain": [
       "[[1741993200000, 'MEASURED', 31, 2.0],\n",
       " [1741993380000, 'MEASURED', 31, 2.0],\n",
       " [1741993560000, 'MEASURED', 32, 2.0],\n",
       " [1741993740000, 'MEASURED', 32, 2.0],\n",
       " [1741993920000, 'MEASURED', 32, 2.0],\n",
       " [1741994100000, 'MEASURED', 32, 2.0],\n",
       " [1741994280000, 'MEASURED', 32, 2.0],\n",
       " [1741994460000, 'MEASURED', 32, 2.0],\n",
       " [1741994640000, 'MEASURED', 32, 2.0],\n",
       " [1741994820000, 'MEASURED', 33, 2.0]]"
      ]
     },
     "execution_count": 14,
     "metadata": {},
     "output_type": "execute_result"
    }
   ],
   "source": [
    "garmin.get_all_day_stress(yesterday)['bodyBatteryValuesArray'][:10]"
   ]
  },
  {
   "cell_type": "code",
   "execution_count": 15,
   "metadata": {},
   "outputs": [
    {
     "data": {
      "text/plain": [
       "{'id': 2444970671,\n",
       " 'typeId': 4,\n",
       " 'status': 'ACCEPTED',\n",
       " 'activityId': 15585601288,\n",
       " 'activityName': 'Paris Course à pied',\n",
       " 'activityType': 'running',\n",
       " 'activityStartDateTimeInGMT': 1716708641000,\n",
       " 'actStartDateTimeInGMTFormatted': '2024-05-26T07:30:41.0',\n",
       " 'activityStartDateTimeLocal': 1716715841000,\n",
       " 'activityStartDateTimeLocalFormatted': '2024-05-26T09:30:41.0',\n",
       " 'value': 2320.009033203125,\n",
       " 'prStartTimeGmt': 1716708641000,\n",
       " 'prStartTimeGmtFormatted': '2024-05-26T07:30:41.0',\n",
       " 'prStartTimeLocal': None,\n",
       " 'prStartTimeLocalFormatted': None,\n",
       " 'prTypeLabelKey': None,\n",
       " 'poolLengthUnit': None}"
      ]
     },
     "execution_count": 15,
     "metadata": {},
     "output_type": "execute_result"
    }
   ],
   "source": [
    "garmin.get_personal_record()[2]"
   ]
  },
  {
   "cell_type": "markdown",
   "metadata": {},
   "source": [
    "### Fetch heart rate"
   ]
  },
  {
   "cell_type": "markdown",
   "metadata": {},
   "source": [
    "#### Fecth heart rate for a day "
   ]
  },
  {
   "cell_type": "code",
   "execution_count": 8,
   "metadata": {},
   "outputs": [
    {
     "data": {
      "text/plain": [
       "'2025-03-17'"
      ]
     },
     "execution_count": 8,
     "metadata": {},
     "output_type": "execute_result"
    }
   ],
   "source": [
    "today = date.today().isoformat()\n",
    "today"
   ]
  },
  {
   "cell_type": "code",
   "execution_count": 13,
   "metadata": {},
   "outputs": [
    {
     "name": "stdout",
     "output_type": "stream",
     "text": [
      "-------------------- heart_rates_data --------------------\n",
      "{\n",
      "    \"userProfilePK\": 104370935,\n",
      "    \"calendarDate\": \"2025-03-17\",\n",
      "    \"startTimestampGMT\": null,\n",
      "    \"endTimestampGMT\": null,\n",
      "    \"startTimestampLocal\": null,\n",
      "    \"endTimestampLocal\": null,\n",
      "    \"maxHeartRate\": null,\n",
      "    \"minHeartRate\": null,\n",
      "    \"restingHeartRate\": null,\n",
      "    \"lastSevenDaysAvgRestingHeartRate\": null,\n",
      "    \"heartRateValueDescriptors\": null,\n",
      "    \"heartRateValues\": null\n",
      "}\n",
      "----------------------------------------------------------\n"
     ]
    }
   ],
   "source": [
    "display_json(\"heart_rates_data\",garmin.get_heart_rates(today))"
   ]
  },
  {
   "cell_type": "code",
   "execution_count": 9,
   "metadata": {},
   "outputs": [
    {
     "name": "stdout",
     "output_type": "stream",
     "text": [
      "number of values 358\n"
     ]
    }
   ],
   "source": [
    "heart_rate = garmin.get_heart_rates(today)['heartRateValues']\n",
    "print(f'number of values {len(heart_rate)}')\n"
   ]
  },
  {
   "cell_type": "code",
   "execution_count": 10,
   "metadata": {},
   "outputs": [
    {
     "name": "stdout",
     "output_type": "stream",
     "text": [
      "first heart rate\n",
      "timestamp : 1742166000000\n",
      "heart rate : 61\n",
      "date: 2025-03-17 00:00:00\n"
     ]
    }
   ],
   "source": [
    "print(f'first heart rate\\ntimestamp : {heart_rate[0][0]}\\nheart rate : {heart_rate[0][1]}\\ndate: {timestamp_to_date(heart_rate[0][0])}')"
   ]
  },
  {
   "cell_type": "code",
   "execution_count": 12,
   "metadata": {},
   "outputs": [
    {
     "name": "stdout",
     "output_type": "stream",
     "text": [
      "120000 120000 358 [0, 0, 0, 0, 0, 0, 0, 0, 0, 0, 0, 0, 0, 0, 0, 0, 0, 0, 0, 0, 0, 0, 0, 0, 0, 0, 0, 0, 0, 0, 1, 1, 1, 1, 1, 1, 1, 1, 1, 1, 1, 1, 1, 1, 1, 1, 1, 1, 1, 1, 1, 1, 1, 1, 1, 1, 1, 1, 1, 1, 2, 2, 2, 2, 2, 2, 2, 2, 2, 2, 2, 2, 2, 2, 2, 2, 2, 2, 2, 2, 2, 2, 2, 2, 2, 2, 2, 2, 2, 2, 3, 3, 3, 3, 3, 3, 3, 3, 3, 3, 3, 3, 3, 3, 3, 3, 3, 3, 3, 3, 3, 3, 3, 3, 3, 3, 3, 3, 3, 3, 4, 4, 4, 4, 4, 4, 4, 4, 4, 4, 4, 4, 4, 4, 4, 4, 4, 4, 4, 4, 4, 4, 4, 4, 4, 4, 4, 4, 4, 4, 5, 5, 5, 5, 5, 5, 5, 5, 5, 5, 5, 5, 5, 5, 5, 5, 5, 5, 5, 5, 5, 5, 5, 5, 5, 5, 5, 5, 5, 5, 6, 6, 6, 6, 6, 6, 6, 6, 6, 6, 6, 6, 6, 6, 6, 6, 6, 6, 6, 6, 6, 6, 6, 6, 6, 6, 6, 6, 6, 6, 7, 7, 7, 7, 7, 7, 7, 7, 7, 7, 7, 7, 7, 7, 7, 7, 7, 7, 7, 7, 7, 7, 7, 7, 7, 7, 7, 7, 7, 7, 8, 8, 8, 8, 8, 8, 8, 8, 8, 8, 8, 8, 8, 8, 8, 8, 8, 8, 8, 8, 8, 8, 8, 8, 8, 8, 8, 8, 8, 8, 9, 9, 9, 9, 9, 9, 9, 9, 9, 9, 9, 9, 9, 9, 9, 9, 9, 9, 9, 9, 9, 9, 9, 9, 9, 9, 9, 9, 9, 9, 10, 10, 10, 10, 10, 10, 10, 10, 10, 10, 10, 10, 10, 10, 10, 10, 10, 10, 10, 10, 10, 10, 10, 10, 10, 10, 10, 10, 10, 10, 11, 11, 11, 11, 11, 11, 11, 11, 11, 11, 11, 11, 11, 11, 11, 11, 11, 11, 11, 11, 11, 11, 11, 11, 11, 11, 11, 11]\n",
      "358 358\n",
      "0 11\n"
     ]
    }
   ],
   "source": [
    "timestamp:List[int] = [data[0] for data in heart_rate]\n",
    "full_date:List[datetime.time] = [timestamp_to_date(data[0])for data in heart_rate]\n",
    "date_hour:List[int] = [timestamp_to_date(data[0]).hour for data in heart_rate]\n",
    "bpm = [data[1] for data in heart_rate]\n",
    "\n",
    "print(timestamp[1]-timestamp[0], timestamp[2]-timestamp[1],len(date_hour),date_hour)\n",
    "print(len(date_hour), len(bpm))\n",
    "print(min(date_hour), max(date_hour))"
   ]
  },
  {
   "cell_type": "code",
   "execution_count": 13,
   "metadata": {},
   "outputs": [
    {
     "data": {
      "image/png": "[encoded data removed]",
      "text/plain": [
       "<Figure size 800x500 with 1 Axes>"
      ]
     },
     "metadata": {},
     "output_type": "display_data"
    }
   ],
   "source": [
    "value_counts = Counter(date_hour)\n",
    "\n",
    "\n",
    "labels, counts = zip(*value_counts.items())\n",
    "\n",
    "\n",
    "plt.figure(figsize=(8, 5))\n",
    "plt.bar(labels, counts, color='skyblue')\n",
    "\n",
    "\n",
    "plt.xlabel('Hour')\n",
    "plt.ylabel('Frequency')\n",
    "plt.title('Hours distribution')\n",
    "\n",
    "\n",
    "plt.show()\n"
   ]
  },
  {
   "cell_type": "markdown",
   "metadata": {},
   "source": [
    "This chart shows that during the day some values are missing. "
   ]
  },
  {
   "cell_type": "markdown",
   "metadata": {},
   "source": [
    "The missing values from 0am to 2am were because I didn't wear the watch during this time and the last sync was made at 1pm.\n",
    "To retrieve all the hear rate since I have bought the watch I need to manage all the missing values caused by phone recharging."
   ]
  },
  {
   "cell_type": "markdown",
   "metadata": {},
   "source": [
    "There is also 30 by hour, so a heart rate mean is sent every 2 minutes which our granularity for this measure. "
   ]
  },
  {
   "cell_type": "code",
   "execution_count": 14,
   "metadata": {},
   "outputs": [
    {
     "data": {
      "text/plain": [
       "Text(0.5, 1.0, 'Heart rate evolution during the day')"
      ]
     },
     "execution_count": 14,
     "metadata": {},
     "output_type": "execute_result"
    },
    {
     "data": {
      "image/png": "[encoded data removed]",
      "text/plain": [
       "<Figure size 640x480 with 1 Axes>"
      ]
     },
     "metadata": {},
     "output_type": "display_data"
    }
   ],
   "source": [
    "\n",
    "plt.plot(timestamp, bpm)\n",
    "plt.gcf().autofmt_xdate()\n",
    "plt.xlabel('hour')\n",
    "plt.ylabel('bpm')\n",
    "plt.title('Heart rate evolution during the day')"
   ]
  },
  {
   "cell_type": "markdown",
   "metadata": {},
   "source": [
    "### Fetch for a week"
   ]
  },
  {
   "cell_type": "code",
   "execution_count": null,
   "metadata": {},
   "outputs": [],
   "source": []
  },
  {
   "cell_type": "markdown",
   "metadata": {},
   "source": [
    "# Example"
   ]
  },
  {
   "cell_type": "markdown",
   "metadata": {},
   "source": [
    "### From medium"
   ]
  },
  {
   "cell_type": "markdown",
   "metadata": {},
   "source": [
    "https://medium.com/@datascienceandvisualisation/a-walkthrough-of-downloading-and-analysing-garmin-connect-data-using-python-b38c51f2fd85"
   ]
  },
  {
   "cell_type": "markdown",
   "metadata": {},
   "source": [
    "## From garmin connect"
   ]
  },
  {
   "cell_type": "markdown",
   "metadata": {},
   "source": [
    "https://pypi.org/project/garminconnect/0.1.21/#description"
   ]
  }
 ],
 "metadata": {
  "kernelspec": {
   "display_name": ".venv",
   "language": "python",
   "name": "python3"
  },
  "language_info": {
   "codemirror_mode": {
    "name": "ipython",
    "version": 3
   },
   "file_extension": ".py",
   "mimetype": "text/x-python",
   "name": "python",
   "nbconvert_exporter": "python",
   "pygments_lexer": "ipython3",
   "version": "3.10.12"
  }
 },
 "nbformat": 4,
 "nbformat_minor": 2
}
